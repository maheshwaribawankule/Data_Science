{
  "nbformat": 4,
  "nbformat_minor": 0,
  "metadata": {
    "colab": {
      "provenance": [],
      "authorship_tag": "ABX9TyO6ejJqMtHlGqGt2Jy+AYe8",
      "include_colab_link": true
    },
    "kernelspec": {
      "name": "python3",
      "display_name": "Python 3"
    },
    "language_info": {
      "name": "python"
    }
  },
  "cells": [
    {
      "cell_type": "markdown",
      "metadata": {
        "id": "view-in-github",
        "colab_type": "text"
      },
      "source": [
        "<a href=\"https://colab.research.google.com/github/maheshwaribawankule/maheshwaribawankule/blob/main/Assignment2.ipynb\" target=\"_parent\"><img src=\"https://colab.research.google.com/assets/colab-badge.svg\" alt=\"Open In Colab\"/></a>"
      ]
    },
    {
      "cell_type": "code",
      "execution_count": 1,
      "metadata": {
        "colab": {
          "base_uri": "https://localhost:8080/",
          "height": 53
        },
        "id": "nCc2ZXyoL9u7",
        "outputId": "d6b68a6b-6190-4969-931b-cc528628ed9e"
      },
      "outputs": [
        {
          "output_type": "stream",
          "name": "stdout",
          "text": [
            "Hello, world!\n"
          ]
        },
        {
          "output_type": "execute_result",
          "data": {
            "text/plain": [
              "'\\nThis is another multi-line comment.\\nIt can be placed anywhere in your code.\\n'"
            ],
            "application/vnd.google.colaboratory.intrinsic+json": {
              "type": "string"
            }
          },
          "metadata": {},
          "execution_count": 1
        }
      ],
      "source": [
        "#Q1. How do you comment code in Python? What are the different types of comments?\n",
        "\n",
        "#Single-line comments:\n",
        "# This is a single-line comment\n",
        "print(\"Hello, world!\")\n",
        "\n",
        "#Multi-line comments (docstrings):\n",
        "\"\"\"\n",
        "This is a multi-line comment using a docstring.\n",
        "You can use triple-quotes (single or double) to create multi-line comments.\n",
        "\"\"\"\n",
        "\n",
        "def add(a, b):\n",
        "    \"\"\"\n",
        "    This is a docstring for the add function.\n",
        "    It describes what the function does and provides usage information.\n",
        "    \"\"\"\n",
        "    return a + b\n",
        "\n",
        "# The following code is also a multi-line comment\n",
        "\"\"\"\n",
        "This is another multi-line comment.\n",
        "It can be placed anywhere in your code.\n",
        "\"\"\"\n",
        "\n",
        "\n"
      ]
    },
    {
      "cell_type": "code",
      "source": [
        "#Q2. What are variables in Python? How do you declare and assign values to variables?\n",
        "#In Python, variables are used to store data values. Variables are like containers or labels that hold data, allowing you to reference and manipulate that data in your code. Before you can use a variable in Python, you need to declare it and assign a value to it.\n",
        "#Variable Declaration:\n",
        "my_variable = 42\n",
        "name = \"John\"\n",
        "is_student = True\n",
        "\n",
        "\n",
        "#Variable Assignment:\n",
        "my_variable = 42  # Assign an integer value to a variable\n",
        "name = \"John\"     # Assign a string value to a variable\n",
        "is_student = True  # Assign a boolean value to a variable\n",
        "\n",
        "\n",
        "x = 10\n",
        "y = x + 5  # Assign the result of an expression to a variable\n",
        "\n",
        "\n",
        "x = 5\n",
        "x = x + 1  # Increment the value of x by 1\n",
        "\n",
        "x = 5\n",
        "x += 1  # Equivalent to x = x + 1\n",
        "\n"
      ],
      "metadata": {
        "id": "R0pgImyoNGFd"
      },
      "execution_count": 2,
      "outputs": []
    },
    {
      "cell_type": "code",
      "source": [
        "#Q3. How do you convert one data type to another in Python?\n",
        "\n",
        "#1.Implicit Type Conversion (Coercion):\n",
        "\n",
        "a = 5      # Integer\n",
        "b = 2.0    # Float\n",
        "\n",
        "result = a + b  # Implicit conversion of 'a' to float\n",
        "\n",
        "\n",
        "#2.Explicit Type Conversion (Type Casting):\n",
        "\n",
        "num_str = \"42\"\n",
        "num_int = int(num_str)  # Explicitly convert a string to an integer\n",
        "\n",
        "float_num = 3.14\n",
        "int_num = int(float_num)  # Explicitly convert a float to an integer (truncates decimal part)\n",
        "\n",
        "bool_val = True\n",
        "int_val = int(bool_val)  # Convert a boolean to an integer (True becomes 1, False becomes 0)\n",
        "\n",
        "\n",
        "#3.Custom Type Conversion:\n",
        "\n",
        "class MyCustomClass:\n",
        "    def __init__(self, value):\n",
        "        self.value = value\n",
        "\n",
        "def custom_to_int(obj):\n",
        "    return int(obj.value)\n",
        "\n",
        "obj = MyCustomClass(42)\n",
        "int_val = custom_to_int(obj)  # Custom conversion from MyCustomClass to integer\n",
        "\n",
        "\n",
        "\n",
        "#4.Using Constructors:\n",
        "\n",
        "string = \"hello\"\n",
        "char_list = list(string)  # Convert a string to a list of characters\n",
        "\n",
        "#5.Conversion Between Numeric Types:\n",
        "\n",
        "num = 42\n",
        "float_num = float(num)       # Convert integer to float\n",
        "complex_num = complex(num)   # Convert integer to complex number\n"
      ],
      "metadata": {
        "id": "esAwjGe3NwPV"
      },
      "execution_count": 3,
      "outputs": []
    },
    {
      "cell_type": "code",
      "source": [
        "#Q4. How do you write and execute a Python script from the command line?\n",
        "\n",
        "#To write and execute a Python script from the command line, follow these steps:\n",
        "\n",
        "#Step 1: Create a Python Script\n",
        "print(\"Hello, World!\")\n",
        "\"\"\"Step 2: Open the Command Line Interface (CLI)\n",
        "\n",
        "On Windows: Open the Command Prompt or PowerShell.\n",
        "On macOS or Linux: Open the Terminal.\"\"\"\n",
        "\n",
        "#Step 3: Navigate to the Script's Directory (Optional)\n",
        "#cd ~/Desktop/scripts\n",
        "\n",
        "#Step 4: Execute the Python Script\n",
        "\n",
        "#python hello.py\n",
        "\n",
        "#Step 5: View the Output\n",
        "#Hello, World!\n"
      ],
      "metadata": {
        "colab": {
          "base_uri": "https://localhost:8080/",
          "height": 53
        },
        "id": "lF46xGSaOhiX",
        "outputId": "ab7c2868-ee73-4150-e413-a4279f3437e5"
      },
      "execution_count": 10,
      "outputs": [
        {
          "output_type": "stream",
          "name": "stdout",
          "text": [
            "Hello, World!\n"
          ]
        },
        {
          "output_type": "execute_result",
          "data": {
            "text/plain": [
              "'Step 2: Open the Command Line Interface (CLI)\\n\\nOn Windows: Open the Command Prompt or PowerShell.\\nOn macOS or Linux: Open the Terminal.'"
            ],
            "application/vnd.google.colaboratory.intrinsic+json": {
              "type": "string"
            }
          },
          "metadata": {},
          "execution_count": 10
        }
      ]
    },
    {
      "cell_type": "code",
      "source": [
        "#Q5. Given a list my_list = [1, 2, 3, 4, 5], write the code to slice the list and obtain the sub-list [2, 3].\n",
        "\n",
        "my_list = [1, 2, 3, 4, 5]\n",
        "\n",
        "# Slice the list to obtain [2, 3]\n",
        "sub_list = my_list[1:3]\n",
        "\n",
        "print(sub_list)\n"
      ],
      "metadata": {
        "colab": {
          "base_uri": "https://localhost:8080/"
        },
        "id": "DlRCh9FBPktq",
        "outputId": "f554d60b-f266-4ac6-f912-0a8ad904c7d6"
      },
      "execution_count": 4,
      "outputs": [
        {
          "output_type": "stream",
          "name": "stdout",
          "text": [
            "[2, 3]\n"
          ]
        }
      ]
    },
    {
      "cell_type": "code",
      "source": [
        "#Q6. What is a complex number in mathematics, and how is it represented in Python?\n",
        "\n",
        "\"\"\"In mathematics, a complex number is a number that can be expressed in the form \"a + bi,\" where \"a\" and \"b\" are real numbers, and \"i\" represents the imaginary unit, which is defined as the square root of -1. Complex numbers are an extension of the real number system and allow us to represent quantities that have both a real part and an imaginary part.\"\"\"\n",
        "#In Python, complex numbers are represented using the following syntax:\n",
        "\n",
        "# Syntax: real_part + imaginary_part * j\n",
        "# Note: \"j\" is used to represent the imaginary unit in Python.\n",
        "\n",
        "z = 3 + 2j  # Example of a complex number\n",
        "#1.Addition and Subtraction:\n",
        "z1 = 3 + 2j\n",
        "z2 = 1 - 1j\n",
        "\n",
        "result_add = z1 + z2  # Addition\n",
        "result_sub = z1 - z2  # Subtraction\n",
        "\n",
        "\n",
        "#2.Multiplication and Division:\n",
        "z1 = 3 + 2j\n",
        "z2 = 1 - 1j\n",
        "\n",
        "result_mul = z1 * z2  # Multiplication\n",
        "result_div = z1 / z2  # Division\n",
        "\n",
        "\n",
        "#3.Conjugate:\n",
        "z = 3 + 2j\n",
        "conjugate_z = z.conjugate()\n",
        "\n",
        "#4.Magnitude (Absolute Value):\n",
        "z = 3 + 2j\n",
        "magnitude_z = abs(z)\n",
        "\n",
        "#5.Phase (Argument):\n",
        "import cmath  # Complex math module\n",
        "\n",
        "z = 1 + 1j\n",
        "phase_z = cmath.phase(z)\n",
        "\n"
      ],
      "metadata": {
        "id": "f_fdWjPlP4vy"
      },
      "execution_count": 6,
      "outputs": []
    },
    {
      "cell_type": "code",
      "source": [
        "#Q7. What is the correct way to declare a variable named age and assign the value 25 to it?\n",
        "\n",
        "#In Python, you can declare a variable named age and assign the value 25 to it using the following syntax:\n",
        "\n",
        "age = 25\n",
        "\"\"\"This code snippet declares a variable named age and initializes it with the value 25. Python does not require explicit data type declarations, so you can simply use the variable name followed by the assignment operator (=) to assign a value to it.\"\"\""
      ],
      "metadata": {
        "colab": {
          "base_uri": "https://localhost:8080/",
          "height": 53
        },
        "id": "5dduNY5WQw8I",
        "outputId": "b02eefe8-22b9-42db-e30f-e97faa64936b"
      },
      "execution_count": 7,
      "outputs": [
        {
          "output_type": "execute_result",
          "data": {
            "text/plain": [
              "'This code snippet declares a variable named age and initializes it with the value 25. Python does not require explicit data type declarations, so you can simply use the variable name followed by the assignment operator (=) to assign a value to it.'"
            ],
            "application/vnd.google.colaboratory.intrinsic+json": {
              "type": "string"
            }
          },
          "metadata": {},
          "execution_count": 7
        }
      ]
    },
    {
      "cell_type": "code",
      "source": [
        "#Q8. Declare a variable named price and assign the value 9.99 to it. What data type does this variable\n",
        "#belong to?\n",
        "\n",
        "\n",
        "#To declare a variable named price and assign the value 9.99 to it in Python, you can use the following code:\n",
        "\n",
        "price = 9.99\n",
        "\n",
        "\"\"\"The variable price belongs to the float data type. In Python, a value with a decimal point, such as 9.99, is treated as a floating-point number, which is a data type used to represent real numbers with a fractional part. Floats are used for storing values like prices, measurements, and other real-world quantities that may have decimal components.\"\"\"\n",
        "\n"
      ],
      "metadata": {
        "colab": {
          "base_uri": "https://localhost:8080/",
          "height": 53
        },
        "id": "wyiYLRvpRInU",
        "outputId": "5f03ac39-3832-443d-ca16-9b63258cb1b9"
      },
      "execution_count": 8,
      "outputs": [
        {
          "output_type": "execute_result",
          "data": {
            "text/plain": [
              "'The variable price belongs to the float data type. In Python, a value with a decimal point, such as 9.99, is treated as a floating-point number, which is a data type used to represent real numbers with a fractional part. Floats are used for storing values like prices, measurements, and other real-world quantities that may have decimal components.'"
            ],
            "application/vnd.google.colaboratory.intrinsic+json": {
              "type": "string"
            }
          },
          "metadata": {},
          "execution_count": 8
        }
      ]
    },
    {
      "cell_type": "code",
      "source": [
        "#Q9. Create a variable named name and assign your full name to it as a string. How would you print the\n",
        "#value of this variable?\n",
        "\n",
        "#To create a variable named name and assign your full name to it as a string in Python, you can follow these steps:\n",
        "name = \"Your Full Name Here\"\n",
        "\n",
        "\"\"\"Replace \"Your Full Name Here\" with your actual full name.\n",
        "\n",
        "To print the value of the name variable, you can use the print() function as follows:\"\"\"\n",
        "print(name)\n",
        "\n",
        "#For example, if your name is John Doe, the code would look like this:\n",
        "name = \"John Doe\"\n",
        "print(name)\n",
        "#When you run this code, it will print your full name to the console."
      ],
      "metadata": {
        "colab": {
          "base_uri": "https://localhost:8080/"
        },
        "id": "gG81lxuxRhvm",
        "outputId": "3d7ba060-910f-4718-c827-e9b01e13826e"
      },
      "execution_count": 11,
      "outputs": [
        {
          "output_type": "stream",
          "name": "stdout",
          "text": [
            "Your Full Name Here\n",
            "John Doe\n"
          ]
        }
      ]
    },
    {
      "cell_type": "code",
      "source": [
        "#Q10. Given the string \"Hello, World!\", extract the substring \"World\".\n",
        "\n",
        "#To extract the substring \"World\" from the string \"Hello, World!\" in Python, you can use string slicing. Here's how you can do it:\n",
        "\n",
        "original_string = \"Hello, World!\"\n",
        "substring = original_string[7:12]\n",
        "print(substring)\n",
        "\"\"\"In this code:\n",
        "\n",
        "original_string contains the original string \"Hello, World!\"\n",
        "original_string[7:12] is a slice that starts at index 7 (inclusive) and ends at index 12 (exclusive), which covers the characters \"World.\"\n",
        "The print() function is used to display the extracted substring.\"\"\""
      ],
      "metadata": {
        "colab": {
          "base_uri": "https://localhost:8080/",
          "height": 70
        },
        "id": "8r97weIVSR4W",
        "outputId": "68d00fbe-3b90-40fb-af2c-c4e3a4dbc298"
      },
      "execution_count": 12,
      "outputs": [
        {
          "output_type": "stream",
          "name": "stdout",
          "text": [
            "World\n"
          ]
        },
        {
          "output_type": "execute_result",
          "data": {
            "text/plain": [
              "'In this code:\\n\\noriginal_string contains the original string \"Hello, World!\"\\noriginal_string[7:12] is a slice that starts at index 7 (inclusive) and ends at index 12 (exclusive), which covers the characters \"World.\"\\nThe print() function is used to display the extracted substring.'"
            ],
            "application/vnd.google.colaboratory.intrinsic+json": {
              "type": "string"
            }
          },
          "metadata": {},
          "execution_count": 12
        }
      ]
    },
    {
      "cell_type": "code",
      "source": [
        "#Q11. Create a variable named \"is_student\" and assign it a boolean value indicating whether you are\n",
        "#currently a student or not.\n",
        "\n",
        "#To create a variable named \"is_student\" and assign it a boolean value indicating whether you are currently a student or not, you can use the following code:\n",
        "\n",
        "is_student = True  # Set to True if you are currently a student, or False if you are not\n",
        "\"\"\"Replace True or False with the appropriate boolean value based on your current status as a student. If you are a student, set is_student to True; otherwise, set it to False.\"\"\"\n"
      ],
      "metadata": {
        "colab": {
          "base_uri": "https://localhost:8080/",
          "height": 36
        },
        "id": "g4xEo2K8SppL",
        "outputId": "73764555-e8db-4877-f212-06f111c081d1"
      },
      "execution_count": 13,
      "outputs": [
        {
          "output_type": "execute_result",
          "data": {
            "text/plain": [
              "'Replace True or False with the appropriate boolean value based on your current status as a student. If you are a student, set is_student to True; otherwise, set it to False.'"
            ],
            "application/vnd.google.colaboratory.intrinsic+json": {
              "type": "string"
            }
          },
          "metadata": {},
          "execution_count": 13
        }
      ]
    }
  ]
}