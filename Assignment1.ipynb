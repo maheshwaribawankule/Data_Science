{
  "nbformat": 4,
  "nbformat_minor": 0,
  "metadata": {
    "colab": {
      "provenance": [],
      "authorship_tag": "ABX9TyN3yPb3mroFbEHfSjnjqiOx",
      "include_colab_link": true
    },
    "kernelspec": {
      "name": "python3",
      "display_name": "Python 3"
    },
    "language_info": {
      "name": "python"
    }
  },
  "cells": [
    {
      "cell_type": "markdown",
      "metadata": {
        "id": "view-in-github",
        "colab_type": "text"
      },
      "source": [
        "<a href=\"https://colab.research.google.com/github/maheshwaribawankule/maheshwaribawankule/blob/main/Assignment1.ipynb\" target=\"_parent\"><img src=\"https://colab.research.google.com/assets/colab-badge.svg\" alt=\"Open In Colab\"/></a>"
      ]
    },
    {
      "cell_type": "code",
      "execution_count": 1,
      "metadata": {
        "id": "qHFQY990NsEi"
      },
      "outputs": [],
      "source": [
        "#Q1. Create one variable containing following type of data:\n",
        "#(i) string\n",
        "#(ii) list\n",
        "#(iii) float\n",
        "#(iv) tuple\n",
        "\n",
        "# 1)String\n",
        "my_string = \"Maheshwari Bawankule\"\n",
        "\n",
        "# 2)List\n",
        "my_list = [11, 22, 33, 44, 55]\n",
        "\n",
        "# 3)Float\n",
        "my_float = 3.14159\n",
        "\n",
        "# Tuple\n",
        "my_tuple = (10,20,30,40,50)\n"
      ]
    },
    {
      "cell_type": "code",
      "source": [
        "# Q2. Given are some following variables containing data:\n",
        "# (i) var1 = ‘ ‘\n",
        "# (ii) var2 = ‘[ DS , ML , Python]’\n",
        "# (iii) var3 = [ ‘DS’ , ’ML’ , ‘Python’ ]\n",
        "# (iv) var4 = 1.\n",
        "# What will be the data type of the above given variable.\n",
        "\n",
        "var1 = ''\n",
        "type(var1)\n",
        "\n",
        "var2 = '[ DS , ML , Python]'\n",
        "type(var2)\n",
        "\n",
        "var3 = [ 'DS' , 'ML' , 'Python' ]\n",
        "type(var3)\n",
        "\n",
        "var4 = 1\n",
        "type(var4)"
      ],
      "metadata": {
        "colab": {
          "base_uri": "https://localhost:8080/"
        },
        "id": "5bxrcGyGOQ1l",
        "outputId": "fa312e78-6389-46da-f861-22658695ae82"
      },
      "execution_count": 9,
      "outputs": [
        {
          "output_type": "execute_result",
          "data": {
            "text/plain": [
              "int"
            ]
          },
          "metadata": {},
          "execution_count": 9
        }
      ]
    },
    {
      "cell_type": "code",
      "source": [
        "# Q3. Explain the use of the following operators using an example:\n",
        "# (i) /\n",
        "# (ii) %\n",
        "# (iii) //\n",
        "# (iv) **\n",
        "\n",
        "# (i) / (Division Operator):\n",
        "# The / operator is used to perform division between two numbers.\n",
        "# It results in a floating-point number, even if the division is between two integers.\n",
        "\n",
        "x = 10\n",
        "y = 5\n",
        "z = x / y\n",
        "print(z)\n",
        "\n",
        "# (ii) % (Modulo Operator):\n",
        "# The % operator calculates the remainder of the division between two numbers.\n",
        "x = 10\n",
        "y = 5\n",
        "z = x % y\n",
        "print(z)\n",
        "\n",
        "# (iii) // (Floor Division Operator):\n",
        "# The // operator performs division between two numbers, but it discards the decimal part, resulting in an integer quotient.\n",
        "\n",
        "x = 10\n",
        "y = 8\n",
        "z = x // y\n",
        "print(z)\n",
        "\n",
        "# (iv) ** (Exponentiation Operator):\n",
        "# The ** operator is used to raise a number to a certain power.\n",
        "\n",
        "x = 2\n",
        "y = 3\n",
        "z = x ** y\n",
        "print(z)\n"
      ],
      "metadata": {
        "colab": {
          "base_uri": "https://localhost:8080/"
        },
        "id": "lxaIfu2sP4zI",
        "outputId": "2965dd8a-d159-48b1-ecb6-dd1fb1d9f921"
      },
      "execution_count": 14,
      "outputs": [
        {
          "output_type": "stream",
          "name": "stdout",
          "text": [
            "2.0\n",
            "0\n",
            "1\n",
            "8\n"
          ]
        }
      ]
    },
    {
      "cell_type": "code",
      "source": [
        "# Q4. Create a list of length 10 of your choice containing multiple types of data. Using for loop print the\n",
        "# element and its data type.\n",
        "\n",
        "my_list = [10, \"Hello\", 3.14159, True, [1, 2, 3], (\"apple\", \"banana\"), {'name': 'John', 'age': 25}, None, 5.0, False]\n",
        "\n",
        "for item in my_list:\n",
        "    print(f\"Element: {item}, Data Type: {type(item)}\")\n"
      ],
      "metadata": {
        "colab": {
          "base_uri": "https://localhost:8080/"
        },
        "id": "casXeKsKX8VF",
        "outputId": "917cbceb-c7f0-49fc-cf49-6c210d30bb5a"
      },
      "execution_count": 15,
      "outputs": [
        {
          "output_type": "stream",
          "name": "stdout",
          "text": [
            "Element: 10, Data Type: <class 'int'>\n",
            "Element: Hello, Data Type: <class 'str'>\n",
            "Element: 3.14159, Data Type: <class 'float'>\n",
            "Element: True, Data Type: <class 'bool'>\n",
            "Element: [1, 2, 3], Data Type: <class 'list'>\n",
            "Element: ('apple', 'banana'), Data Type: <class 'tuple'>\n",
            "Element: {'name': 'John', 'age': 25}, Data Type: <class 'dict'>\n",
            "Element: None, Data Type: <class 'NoneType'>\n",
            "Element: 5.0, Data Type: <class 'float'>\n",
            "Element: False, Data Type: <class 'bool'>\n"
          ]
        }
      ]
    },
    {
      "cell_type": "code",
      "source": [
        "# Q5. Using a while loop, verify if the number A is purely divisible by number B and if so then how many\n",
        "# times it can be divisible.\n",
        "\n",
        "A = int(input(\"Enter number A: \"))\n",
        "B = int(input(\"Enter number B: \"))\n",
        "\n",
        "count = 0\n",
        "\n",
        "while A >= B:\n",
        "    A -= B\n",
        "    count += 1\n",
        "\n",
        "if A == 0:\n",
        "    print(f\"{B} is a divisor of the original A, and it can be divided {count} times.\")\n",
        "else:\n",
        "    print(f\"{B} is not a divisor of the original A.\")\n"
      ],
      "metadata": {
        "colab": {
          "base_uri": "https://localhost:8080/"
        },
        "id": "Sl4lbcemYcBb",
        "outputId": "c19af574-d46c-4609-8fc9-e2f11aabb488"
      },
      "execution_count": 16,
      "outputs": [
        {
          "output_type": "stream",
          "name": "stdout",
          "text": [
            "Enter number A: 5\n",
            "Enter number B: 6\n",
            "6 is not a divisor of the original A.\n"
          ]
        }
      ]
    },
    {
      "cell_type": "code",
      "source": [
        "# Q6. Create a list containing 25 int type data. Using for loop and if-else condition print if the element is\n",
        "# divisible by 3 or not.\n",
        "\n",
        "\n",
        "my_list = [6, 12, 9, 4, 15, 8, 21, 18, 7, 24, 16, 10, 27, 30, 14, 3, 22, 11, 33, 20, 36, 13, 25, 28, 2]\n",
        "\n",
        "\n",
        "for num in my_list:\n",
        "    if num % 3 == 0:\n",
        "        print(f\"{num} is divisible by 3\")\n",
        "    else:\n",
        "        print(f\"{num} is not divisible by 3\")\n"
      ],
      "metadata": {
        "colab": {
          "base_uri": "https://localhost:8080/"
        },
        "id": "TxOOc0Z8Ys6Y",
        "outputId": "ff54e30f-f6af-4fe4-da8c-c1b879e78c46"
      },
      "execution_count": 17,
      "outputs": [
        {
          "output_type": "stream",
          "name": "stdout",
          "text": [
            "6 is divisible by 3\n",
            "12 is divisible by 3\n",
            "9 is divisible by 3\n",
            "4 is not divisible by 3\n",
            "15 is divisible by 3\n",
            "8 is not divisible by 3\n",
            "21 is divisible by 3\n",
            "18 is divisible by 3\n",
            "7 is not divisible by 3\n",
            "24 is divisible by 3\n",
            "16 is not divisible by 3\n",
            "10 is not divisible by 3\n",
            "27 is divisible by 3\n",
            "30 is divisible by 3\n",
            "14 is not divisible by 3\n",
            "3 is divisible by 3\n",
            "22 is not divisible by 3\n",
            "11 is not divisible by 3\n",
            "33 is divisible by 3\n",
            "20 is not divisible by 3\n",
            "36 is divisible by 3\n",
            "13 is not divisible by 3\n",
            "25 is not divisible by 3\n",
            "28 is not divisible by 3\n",
            "2 is not divisible by 3\n"
          ]
        }
      ]
    },
    {
      "cell_type": "code",
      "source": [
        "# Q7. What do you understand about mutable and immutable data types? Give examples for both showing\n",
        "# this property.\n",
        "# Immutable\n",
        "x = \"Maheshwari\"\n",
        "x = x + \" Bawankule\"\n",
        "print(x)\n",
        "\n",
        "#Mutable\n",
        "my_list = [10, 20, 30]\n",
        "my_list.append(40)\n",
        "print(my_list)\n"
      ],
      "metadata": {
        "colab": {
          "base_uri": "https://localhost:8080/"
        },
        "id": "-0emE1mXY--5",
        "outputId": "ca9ff5b4-bacf-4b37-a775-0a8fd5d81c13"
      },
      "execution_count": 18,
      "outputs": [
        {
          "output_type": "stream",
          "name": "stdout",
          "text": [
            "Maheshwari Bawankule\n",
            "[10, 20, 30, 40]\n"
          ]
        }
      ]
    }
  ]
}